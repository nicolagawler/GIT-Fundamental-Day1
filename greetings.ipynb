{
 "cells": [
  {
   "cell_type": "code",
   "execution_count": null,
   "id": "2c813bb1",
   "metadata": {},
   "outputs": [],
   "source": [
    "#name = input(\"What is your name? \")\n",
    "#print(f\"Goodbye, {name}!\") # NOTE: it says \"Goodbye\" here\n",
    "#Now I'll add something here\n",
    "\n",
    "from datetime import datetime\n",
    "\n",
    "name = input(\"What is your name? \")\n",
    "hour = datetime.now().time().hour\n",
    "greeting = \"Good morning\" if 4 <= hour < 12 else \"Good afternoon\" if 12 <= hour < 16 else \"Good night\"\n",
    "print(f\"{greeting}, {name}!\")"
   ]
  }
 ],
 "metadata": {
  "kernelspec": {
   "display_name": "Python 3 (ipykernel)",
   "language": "python",
   "name": "python3"
  },
  "language_info": {
   "codemirror_mode": {
    "name": "ipython",
    "version": 3
   },
   "file_extension": ".py",
   "mimetype": "text/x-python",
   "name": "python",
   "nbconvert_exporter": "python",
   "pygments_lexer": "ipython3",
   "version": "3.11.3"
  }
 },
 "nbformat": 4,
 "nbformat_minor": 5
}
